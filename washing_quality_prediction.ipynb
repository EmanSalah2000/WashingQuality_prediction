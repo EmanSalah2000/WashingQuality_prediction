{
  "nbformat": 4,
  "nbformat_minor": 0,
  "metadata": {
    "colab": {
      "name": "washing_quality_prediction",
      "provenance": [],
      "authorship_tag": "ABX9TyMY3arAhj08sC6C1jh38C0H",
      "include_colab_link": true
    },
    "kernelspec": {
      "name": "python3",
      "display_name": "Python 3"
    },
    "language_info": {
      "name": "python"
    }
  },
  "cells": [
    {
      "cell_type": "markdown",
      "metadata": {
        "id": "view-in-github",
        "colab_type": "text"
      },
      "source": [
        "<a href=\"https://colab.research.google.com/github/EmanSalah2000/WashingQuality_prediction/blob/main/washing_quality_prediction.ipynb\" target=\"_parent\"><img src=\"https://colab.research.google.com/assets/colab-badge.svg\" alt=\"Open In Colab\"/></a>"
      ]
    },
    {
      "cell_type": "code",
      "metadata": {
        "colab": {
          "base_uri": "https://localhost:8080/"
        },
        "id": "bzOWIwNIDBBp",
        "outputId": "44741dfd-b8f1-4e21-e286-2d68082898d5"
      },
      "source": [
        "!pip install -U scikit-fuzzy\n",
        "import numpy as np\n",
        "import skfuzzy as fuzz\n",
        "import matplotlib .pyplot as plt\n",
        "import sys\n",
        "import skfuzzy.control as ctrl"
      ],
      "execution_count": null,
      "outputs": [
        {
          "output_type": "stream",
          "text": [
            "Requirement already up-to-date: scikit-fuzzy in /usr/local/lib/python3.7/dist-packages (0.4.2)\n",
            "Requirement already satisfied, skipping upgrade: scipy>=0.9.0 in /usr/local/lib/python3.7/dist-packages (from scikit-fuzzy) (1.4.1)\n",
            "Requirement already satisfied, skipping upgrade: numpy>=1.6.0 in /usr/local/lib/python3.7/dist-packages (from scikit-fuzzy) (1.19.5)\n",
            "Requirement already satisfied, skipping upgrade: networkx>=1.9.0 in /usr/local/lib/python3.7/dist-packages (from scikit-fuzzy) (2.5.1)\n",
            "Requirement already satisfied, skipping upgrade: decorator<5,>=4.3 in /usr/local/lib/python3.7/dist-packages (from networkx>=1.9.0->scikit-fuzzy) (4.4.2)\n"
          ],
          "name": "stdout"
        }
      ]
    },
    {
      "cell_type": "code",
      "metadata": {
        "colab": {
          "base_uri": "https://localhost:8080/"
        },
        "id": "diJMFQVnDTq7",
        "outputId": "a00c8214-2a83-4aba-e7a3-042532a627f8"
      },
      "source": [
        "# inputs \n",
        "current_clothType = 0.3\n",
        "current_DegreeOfDirty = 0.8\n",
        "current_washingtime = 20\n",
        "\n",
        "\n",
        "#ranges of inputs\n",
        "x_clothtype = np.arange(0, 1.1, 0.1)\n",
        "x_DegreeOfDirtiness = np.arange(0, 1.1, 0.1)\n",
        "x_washingtime = np.arange(0, 62, 1)\n",
        "x_washinquality = np.arange(0, 3.1, 0.1)\n",
        "\n",
        "\n",
        "\n",
        "print(\"clothtype\", str(x_clothtype))\n",
        "print(\"degreeofdirty\", str(x_DegreeOfDirtiness))\n",
        "print(\"washingtime\", str(x_washingtime))\n",
        "print(\"washingpower\", str(x_washinquality))\n",
        "\n"
      ],
      "execution_count": null,
      "outputs": [
        {
          "output_type": "stream",
          "text": [
            "clothtype [0.  0.1 0.2 0.3 0.4 0.5 0.6 0.7 0.8 0.9 1. ]\n",
            "degreeofdirty [0.  0.1 0.2 0.3 0.4 0.5 0.6 0.7 0.8 0.9 1. ]\n",
            "washingtime [ 0  1  2  3  4  5  6  7  8  9 10 11 12 13 14 15 16 17 18 19 20 21 22 23\n",
            " 24 25 26 27 28 29 30 31 32 33 34 35 36 37 38 39 40 41 42 43 44 45 46 47\n",
            " 48 49 50 51 52 53 54 55 56 57 58 59 60 61]\n",
            "washingpower [0.  0.1 0.2 0.3 0.4 0.5 0.6 0.7 0.8 0.9 1.  1.1 1.2 1.3 1.4 1.5 1.6 1.7\n",
            " 1.8 1.9 2.  2.1 2.2 2.3 2.4 2.5 2.6 2.7 2.8 2.9 3. ]\n"
          ],
          "name": "stdout"
        }
      ]
    },
    {
      "cell_type": "code",
      "metadata": {
        "colab": {
          "base_uri": "https://localhost:8080/",
          "height": 382
        },
        "id": "TTkuWf6nMggX",
        "outputId": "447f3e3b-498c-4ac6-8c14-5d8dc6f5423c"
      },
      "source": [
        "clothtype_cotton = fuzz.trimf(x_clothtype, [0, 0, 0.4])\n",
        "print(\"clothtype_cotton: \" + str(clothtype_cotton))\n",
        "clothtype_woolean = fuzz.trimf(x_clothtype, [0.1, 0.5, 0.9])\n",
        "print(\"clothtype_woolean: \" + str(clothtype_woolean))\n",
        "clothtype_silk = fuzz.trimf(x_clothtype, [0.6, 1, 1])\n",
        "print(\"clothtype_silk: \" + str(clothtype_silk))\n",
        "\n",
        "fig, ax = plt.subplots()\n",
        "ax.set_title('ClothType')\n",
        "ax.set_xlabel('ClothType')\n",
        "ax.plot(x_clothtype, clothtype_cotton, linewidth=1.5, label='cotton')\n",
        "ax.plot(x_clothtype, clothtype_woolean, linewidth=1.5, label='woolean')\n",
        "ax.plot(x_clothtype, clothtype_silk, linewidth=1.5, label='silk')\n",
        "ax.legend()\n",
        "plt.axis([0, 1, 0, 1])\n",
        "plt.show()"
      ],
      "execution_count": null,
      "outputs": [
        {
          "output_type": "stream",
          "text": [
            "clothtype_cotton: [1.   0.75 0.5  0.25 0.   0.   0.   0.   0.   0.   0.  ]\n",
            "clothtype_woolean: [0.   0.   0.25 0.5  0.75 1.   0.75 0.5  0.25 0.   0.  ]\n",
            "clothtype_silk: [0.00000000e+00 0.00000000e+00 0.00000000e+00 0.00000000e+00\n",
            " 0.00000000e+00 0.00000000e+00 2.77555756e-16 2.50000000e-01\n",
            " 5.00000000e-01 7.50000000e-01 1.00000000e+00]\n"
          ],
          "name": "stdout"
        },
        {
          "output_type": "display_data",
          "data": {
            "image/png": "[encoded data removed]",
            "text/plain": [
              "<Figure size 432x288 with 1 Axes>"
            ]
          },
          "metadata": {
            "tags": [],
            "needs_background": "light"
          }
        }
      ]
    },
    {
      "cell_type": "code",
      "metadata": {
        "colab": {
          "base_uri": "https://localhost:8080/",
          "height": 382
        },
        "id": "o1r44TXBRPz3",
        "outputId": "73c4fce9-dc76-41b6-eff8-c5702d64ddf5"
      },
      "source": [
        "DegreeOfDirtiness_NonGreasy = fuzz.trimf(x_DegreeOfDirtiness, [0, 0, 0.4])\n",
        "print(\"DegreeOfDirtiness_NonGreasy: \" + str(DegreeOfDirtiness_NonGreasy))\n",
        "DegreeOfDirtiness_Medium = fuzz.trimf(x_DegreeOfDirtiness, [0.1, 0.5, 0.9])\n",
        "print(\"DegreeOfDirtiness_Medium: \" + str(DegreeOfDirtiness_Medium))\n",
        "DegreeOfDirtiness_Greasy = fuzz.trimf(x_DegreeOfDirtiness, [0.6, 1, 1])\n",
        "print(\"DegreeOfDirtiness_Greasy: \" + str(DegreeOfDirtiness_Greasy))\n",
        "\n",
        "fig, ax = plt.subplots()\n",
        "ax.set_title('DegreeOfDirtiness')\n",
        "ax.set_xlabel('DegreeOfDirtiness')\n",
        "ax.plot(x_DegreeOfDirtiness, DegreeOfDirtiness_NonGreasy, linewidth=1.5, label='NonGreasy')\n",
        "ax.plot(x_DegreeOfDirtiness, DegreeOfDirtiness_Medium, linewidth=1.5, label='Medium')\n",
        "ax.plot(x_DegreeOfDirtiness, DegreeOfDirtiness_Greasy, linewidth=1.5, label='Greasy')\n",
        "ax.legend()\n",
        "plt.axis([0, 1, 0, 1])\n",
        "plt.show()"
      ],
      "execution_count": null,
      "outputs": [
        {
          "output_type": "stream",
          "text": [
            "DegreeOfDirtiness_NonGreasy: [1.   0.75 0.5  0.25 0.   0.   0.   0.   0.   0.   0.  ]\n",
            "DegreeOfDirtiness_Medium: [0.   0.   0.25 0.5  0.75 1.   0.75 0.5  0.25 0.   0.  ]\n",
            "DegreeOfDirtiness_Greasy: [0.00000000e+00 0.00000000e+00 0.00000000e+00 0.00000000e+00\n",
            " 0.00000000e+00 0.00000000e+00 2.77555756e-16 2.50000000e-01\n",
            " 5.00000000e-01 7.50000000e-01 1.00000000e+00]\n"
          ],
          "name": "stdout"
        },
        {
          "output_type": "display_data",
          "data": {
            "image/png": "[encoded data removed]",
            "text/plain": [
              "<Figure size 432x288 with 1 Axes>"
            ]
          },
          "metadata": {
            "tags": [],
            "needs_background": "light"
          }
        }
      ]
    },
    {
      "cell_type": "code",
      "metadata": {
        "colab": {
          "base_uri": "https://localhost:8080/",
          "height": 867
        },
        "id": "AQDsmeAVov-T",
        "outputId": "896ceea6-6ba0-4c5c-e192-9220336bbba4"
      },
      "source": [
        "WashingTime_Short = fuzz.trimf(x_washingtime, [0, 0, 18])\n",
        "print(\"WashingTime_Short: \" + str(WashingTime_Short))\n",
        "WashingTime_Medium = fuzz.trimf(x_washingtime, [18, 28, 35])\n",
        "print(\"WashingTime_Medium: \" + str(WashingTime_Medium))\n",
        "WashingTime_Long = fuzz.trimf(x_washingtime, [35, 45, 60])\n",
        "print(\"WashingTime_Long: \" + str(WashingTime_Long))\n",
        "\n",
        "\n",
        "fig, ax = plt.subplots()\n",
        "ax.set_title('WashingTime')\n",
        "ax.set_xlabel('WashingTime')\n",
        "ax.plot(x_washingtime, WashingTime_Short, linewidth=1.5, label='Short')\n",
        "ax.plot(x_washingtime, WashingTime_Medium, linewidth=1.5, label='Medium')\n",
        "ax.plot(x_washingtime, WashingTime_Long, linewidth=1.5, label='Long')\n",
        "ax.legend()\n",
        "plt.axis([0, 60, 0, 1])\n",
        "plt.show()"
      ],
      "execution_count": null,
      "outputs": [
        {
          "output_type": "stream",
          "text": [
            "WashingTime_Short: [1.         0.94444444 0.88888889 0.83333333 0.77777778 0.72222222\n",
            " 0.66666667 0.61111111 0.55555556 0.5        0.44444444 0.38888889\n",
            " 0.33333333 0.27777778 0.22222222 0.16666667 0.11111111 0.05555556\n",
            " 0.         0.         0.         0.         0.         0.\n",
            " 0.         0.         0.         0.         0.         0.\n",
            " 0.         0.         0.         0.         0.         0.\n",
            " 0.         0.         0.         0.         0.         0.\n",
            " 0.         0.         0.         0.         0.         0.\n",
            " 0.         0.         0.         0.         0.         0.\n",
            " 0.         0.         0.         0.         0.         0.\n",
            " 0.         0.        ]\n",
            "WashingTime_Medium: [0.         0.         0.         0.         0.         0.\n",
            " 0.         0.         0.         0.         0.         0.\n",
            " 0.         0.         0.         0.         0.         0.\n",
            " 0.         0.1        0.2        0.3        0.4        0.5\n",
            " 0.6        0.7        0.8        0.9        1.         0.85714286\n",
            " 0.71428571 0.57142857 0.42857143 0.28571429 0.14285714 0.\n",
            " 0.         0.         0.         0.         0.         0.\n",
            " 0.         0.         0.         0.         0.         0.\n",
            " 0.         0.         0.         0.         0.         0.\n",
            " 0.         0.         0.         0.         0.         0.\n",
            " 0.         0.        ]\n",
            "WashingTime_Long: [0.         0.         0.         0.         0.         0.\n",
            " 0.         0.         0.         0.         0.         0.\n",
            " 0.         0.         0.         0.         0.         0.\n",
            " 0.         0.         0.         0.         0.         0.\n",
            " 0.         0.         0.         0.         0.         0.\n",
            " 0.         0.         0.         0.         0.         0.\n",
            " 0.1        0.2        0.3        0.4        0.5        0.6\n",
            " 0.7        0.8        0.9        1.         0.93333333 0.86666667\n",
            " 0.8        0.73333333 0.66666667 0.6        0.53333333 0.46666667\n",
            " 0.4        0.33333333 0.26666667 0.2        0.13333333 0.06666667\n",
            " 0.         0.        ]\n"
          ],
          "name": "stdout"
        },
        {
          "output_type": "display_data",
          "data": {
            "image/png": "[encoded data removed]",
            "text/plain": [
              "<Figure size 432x288 with 1 Axes>"
            ]
          },
          "metadata": {
            "tags": [],
            "needs_background": "light"
          }
        }
      ]
    },
    {
      "cell_type": "code",
      "metadata": {
        "colab": {
          "base_uri": "https://localhost:8080/",
          "height": 642
        },
        "id": "4bgncRDvWZRv",
        "outputId": "d2eecc31-371c-40fa-d945-77c33ef5dda0"
      },
      "source": [
        "washinquality_meduim = fuzz.trimf(x_washinquality, [0, 0, 1.5])\n",
        "print(\"washinquality_meduim:\" + str(washinquality_meduim))\n",
        "washinquality_good = fuzz.trimf(x_washinquality, [1.4, 2, 2.5])\n",
        "print(\"washinquality_good :\" + str(washinquality_good))\n",
        "washinquality_best = fuzz.trimf(x_washinquality, [2.5, 2.7, 3])\n",
        "print(\"washinquality_best: \" + str(washinquality_best))\n",
        "\n",
        "fig, ax = plt.subplots()\n",
        "ax.set_title('WashinQuality')\n",
        "ax.set_xlabel('WashinQuality')\n",
        "ax.plot(x_washinquality, washinquality_meduim, linewidth=1.5, label='meduim')\n",
        "ax.plot(x_washinquality, washinquality_good, linewidth=1.5, label='good')\n",
        "ax.plot(x_washinquality, washinquality_best, linewidth=1.5, label='best')\n",
        "ax.legend()\n",
        "plt.axis([0, 3, 0, 1])\n",
        "plt.show()"
      ],
      "execution_count": null,
      "outputs": [
        {
          "output_type": "stream",
          "text": [
            "washinquality_meduim:[1.         0.93333333 0.86666667 0.8        0.73333333 0.66666667\n",
            " 0.6        0.53333333 0.46666667 0.4        0.33333333 0.26666667\n",
            " 0.2        0.13333333 0.06666667 0.         0.         0.\n",
            " 0.         0.         0.         0.         0.         0.\n",
            " 0.         0.         0.         0.         0.         0.\n",
            " 0.        ]\n",
            "washinquality_good :[0.00000000e+00 0.00000000e+00 0.00000000e+00 0.00000000e+00\n",
            " 0.00000000e+00 0.00000000e+00 0.00000000e+00 0.00000000e+00\n",
            " 0.00000000e+00 0.00000000e+00 0.00000000e+00 0.00000000e+00\n",
            " 0.00000000e+00 0.00000000e+00 3.70074342e-16 1.66666667e-01\n",
            " 3.33333333e-01 5.00000000e-01 6.66666667e-01 8.33333333e-01\n",
            " 1.00000000e+00 8.00000000e-01 6.00000000e-01 4.00000000e-01\n",
            " 2.00000000e-01 0.00000000e+00 0.00000000e+00 0.00000000e+00\n",
            " 0.00000000e+00 0.00000000e+00 0.00000000e+00]\n",
            "washinquality_best: [0.         0.         0.         0.         0.         0.\n",
            " 0.         0.         0.         0.         0.         0.\n",
            " 0.         0.         0.         0.         0.         0.\n",
            " 0.         0.         0.         0.         0.         0.\n",
            " 0.         0.         0.5        1.         0.66666667 0.33333333\n",
            " 0.        ]\n"
          ],
          "name": "stdout"
        },
        {
          "output_type": "display_data",
          "data": {
            "image/png": "[encoded data removed]",
            "text/plain": [
              "<Figure size 432x288 with 1 Axes>"
            ]
          },
          "metadata": {
            "tags": [],
            "needs_background": "light"
          }
        }
      ]
    },
    {
      "cell_type": "code",
      "metadata": {
        "colab": {
          "base_uri": "https://localhost:8080/"
        },
        "id": "WWAunlkapbxY",
        "outputId": "97dfb6a4-a71c-484f-bfe8-a9d2c3d3e335"
      },
      "source": [
        "clothtype_cotton = fuzz.interp_membership(x_clothtype, clothtype_cotton, current_clothType)\n",
        "print(\"clothtype_cotton: \" + str(clothtype_cotton))\n",
        "clothtype_woolean = fuzz.interp_membership(x_clothtype, clothtype_woolean, current_clothType)\n",
        "print(\"clothtype_woolean: \" + str(clothtype_woolean))\n",
        "clothtype_silk = fuzz.interp_membership(x_clothtype, clothtype_silk, current_clothType)\n",
        "print(\"clothtype_silk: \" + str(clothtype_silk))"
      ],
      "execution_count": null,
      "outputs": [
        {
          "output_type": "stream",
          "text": [
            "clothtype_cotton: 0.2500000000000001\n",
            "clothtype_woolean: 0.5\n",
            "clothtype_silk: 0.0\n"
          ],
          "name": "stdout"
        }
      ]
    },
    {
      "cell_type": "code",
      "metadata": {
        "colab": {
          "base_uri": "https://localhost:8080/"
        },
        "id": "CcIm_JfhqnkZ",
        "outputId": "189689a9-9c5c-48a4-dcb1-396518c9c3ec"
      },
      "source": [
        "DegreeOfDirtiness_NonGreasy = fuzz.interp_membership(x_DegreeOfDirtiness, DegreeOfDirtiness_NonGreasy, current_DegreeOfDirty)\n",
        "print(\"DegreeOfDirtiness_NonGreasy: \" + str(DegreeOfDirtiness_NonGreasy))\n",
        "DegreeOfDirtiness_Medium = fuzz.interp_membership(x_DegreeOfDirtiness, DegreeOfDirtiness_Medium, current_DegreeOfDirty)\n",
        "print(\"DegreeOfDirtiness_Medium: \" + str(DegreeOfDirtiness_Medium))\n",
        "DegreeOfDirtiness_Greasy = fuzz.interp_membership(x_DegreeOfDirtiness, DegreeOfDirtiness_Greasy, current_DegreeOfDirty)\n",
        "print(\"DegreeOfDirtiness_Greasy: \" + str(DegreeOfDirtiness_Greasy))"
      ],
      "execution_count": null,
      "outputs": [
        {
          "output_type": "stream",
          "text": [
            "DegreeOfDirtiness_NonGreasy: 0.0\n",
            "DegreeOfDirtiness_Medium: 0.24999999999999994\n",
            "DegreeOfDirtiness_Greasy: 0.5000000000000001\n"
          ],
          "name": "stdout"
        }
      ]
    },
    {
      "cell_type": "code",
      "metadata": {
        "colab": {
          "base_uri": "https://localhost:8080/"
        },
        "id": "BMLgt-rnuu5v",
        "outputId": "27c68ffe-13ae-41b7-b286-49ddd66ef6ee"
      },
      "source": [
        "WashingTime_Short = fuzz.interp_membership(x_washingtime, WashingTime_Short, current_washingtime)\n",
        "print(\"WashingTime_Short: \" + str(WashingTime_Short))\n",
        "WashingTime_Medium = fuzz.interp_membership(x_washingtime, WashingTime_Medium, current_washingtime)\n",
        "print(\"WashingTime_Medium: \" + str(WashingTime_Medium))\n",
        "WashingTime_Long = fuzz.interp_membership(x_washingtime, WashingTime_Long, current_washingtime)\n",
        "print(\"WashingTime_Long: \" + str(WashingTime_Long))"
      ],
      "execution_count": null,
      "outputs": [
        {
          "output_type": "stream",
          "text": [
            "WashingTime_Short: 0.0\n",
            "WashingTime_Medium: 0.2\n",
            "WashingTime_Long: 0.0\n"
          ],
          "name": "stdout"
        }
      ]
    },
    {
      "cell_type": "code",
      "metadata": {
        "colab": {
          "base_uri": "https://localhost:8080/"
        },
        "id": "ndgF0O7s5HCU",
        "outputId": "b59ac5b1-37c1-4b44-ddbe-4f48411746cf"
      },
      "source": [
        "### silk    nongreasy\n",
        "Rule1_good =np.fmin(clothtype_silk ,DegreeOfDirtiness_NonGreasy ) \n",
        "Rule1_good=np.fmin(Rule1_good,WashingTime_Short)\n",
        "print('Rule_1_good' ,Rule1_good)\n",
        "\n",
        "Rule2_Best =np.fmin(clothtype_silk ,DegreeOfDirtiness_NonGreasy ) \n",
        "Rule2_Best=np.fmin(Rule2_Best,WashingTime_Medium)\n",
        "print('Rule_2_Best' ,Rule2_Best)\n",
        "\n",
        "Rule3_Best =np.fmin(clothtype_silk ,DegreeOfDirtiness_NonGreasy ) \n",
        "Rule3_Best=np.fmin(Rule3_Best,WashingTime_Long)\n",
        "print('Rule_3_best' ,Rule3_Best)\n",
        "\n",
        "# silk medium\n",
        "Rule4_meduim =np.fmin(clothtype_silk ,DegreeOfDirtiness_Medium) \n",
        "Rule4_meduim=np.fmin(Rule4_meduim,WashingTime_Short)\n",
        "print('Rule_4_meduim' ,Rule4_meduim)\n",
        "\n",
        "Rule5_meduim =np.fmin(clothtype_silk ,DegreeOfDirtiness_Medium) \n",
        "Rule5_meduim =np.fmin(Rule5_meduim ,WashingTime_Medium)\n",
        "print('Rule_5_meduim' ,Rule5_meduim )\n",
        "\n",
        "Rule6_good =np.fmin(clothtype_silk ,DegreeOfDirtiness_Medium) \n",
        "Rule6_good =np.fmin(Rule6_good  ,WashingTime_Long)\n",
        "print('Rule_6_good' ,Rule6_good  )\n",
        "\n",
        "# silk  greasy\n",
        "Rule7_meduim =np.fmin(clothtype_silk ,DegreeOfDirtiness_Greasy) \n",
        "Rule7_meduim  =np.fmin(Rule7_meduim  ,WashingTime_Short)\n",
        "print('Rule_7_meduim' ,Rule7_meduim )\n",
        "\n",
        "Rule8_good =np.fmin(clothtype_silk ,DegreeOfDirtiness_Greasy) \n",
        "Rule8_good  =np.fmin(Rule8_good  ,WashingTime_Medium)\n",
        "print('Rule_8_good' ,Rule8_good )\n",
        "\n",
        "Rule9_Best =np.fmin(clothtype_silk ,DegreeOfDirtiness_Greasy) \n",
        "Rule9_Best  =np.fmin(Rule9_Best  ,WashingTime_Long)\n",
        "print('Rule_9_Best' ,Rule9_Best )"
      ],
      "execution_count": null,
      "outputs": [
        {
          "output_type": "stream",
          "text": [
            "Rule_1_good 0.0\n",
            "Rule_2_Best 0.0\n",
            "Rule_3_best 0.0\n",
            "Rule_4_meduim 0.0\n",
            "Rule_5_meduim 0.0\n",
            "Rule_6_good 0.0\n",
            "Rule_7_meduim 0.0\n",
            "Rule_8_good 0.0\n",
            "Rule_9_Best 0.0\n"
          ],
          "name": "stdout"
        }
      ]
    },
    {
      "cell_type": "code",
      "metadata": {
        "colab": {
          "base_uri": "https://localhost:8080/"
        },
        "id": "aQn0pKjnw566",
        "outputId": "81115945-a64d-445c-c1a8-2904358d1b74"
      },
      "source": [
        "# woolean nongreasy\n",
        "Rule10_meduim =np.fmin(clothtype_woolean ,DegreeOfDirtiness_NonGreasy) \n",
        "Rule10_meduim  =np.fmin(Rule10_meduim  ,WashingTime_Short)\n",
        "print('Rule_10_meuim' ,Rule10_meduim )\n",
        "\n",
        "Rule11_good =np.fmin(clothtype_woolean ,DegreeOfDirtiness_NonGreasy) \n",
        "Rule11_good  =np.fmin(Rule11_good  ,WashingTime_Medium)\n",
        "print('Rule_11_good' ,Rule11_good )\n",
        "\n",
        "Rule12_good =np.fmin(clothtype_woolean ,DegreeOfDirtiness_NonGreasy) \n",
        "Rule12_good =np.fmin(Rule12_good  ,WashingTime_Long)\n",
        "print('Rule_12_good' ,Rule12_good )\n",
        "\n",
        "#woolean  meduim\n",
        "Rule13_meduim =np.fmin(clothtype_woolean ,DegreeOfDirtiness_Medium) \n",
        "Rule13_meduim  =np.fmin(Rule13_meduim  ,WashingTime_Short)\n",
        "print('Rule_13_meduim' ,Rule13_meduim )\n",
        "\n",
        "\n",
        "Rule14_good =np.fmin(clothtype_woolean ,DegreeOfDirtiness_Medium) \n",
        "Rule14_good  =np.fmin(Rule14_good  ,WashingTime_Medium)\n",
        "print('Rule_14_good' ,Rule14_good )\n",
        "\n",
        "Rule15_best=np.fmin(clothtype_woolean ,DegreeOfDirtiness_Medium) \n",
        "Rule15_best  =np.fmin(Rule15_best  ,WashingTime_Long)\n",
        "print('Rule_15_Best' ,Rule15_best)\n",
        "\n",
        "\n",
        "#woolean greasy\n",
        "Rule16_meduim=np.fmin(clothtype_woolean ,DegreeOfDirtiness_Greasy) \n",
        "Rule16_meduim  =np.fmin(Rule16_meduim  ,WashingTime_Short)\n",
        "print('Rule_16_meduim' ,Rule16_meduim)\n",
        "\n",
        "Rule17_good=np.fmin(clothtype_woolean ,DegreeOfDirtiness_Greasy) \n",
        "Rule17_good  =np.fmin(Rule17_good  ,WashingTime_Medium)\n",
        "print('Rule_17_good' ,Rule17_good)\n",
        "\n",
        "Rule18_best=np.fmin(clothtype_woolean ,DegreeOfDirtiness_Greasy) \n",
        "Rule18_best  =np.fmin(Rule18_best  ,WashingTime_Long)\n",
        "print('Rule_18_best' ,Rule18_best)"
      ],
      "execution_count": null,
      "outputs": [
        {
          "output_type": "stream",
          "text": [
            "Rule_10_meuim 0.0\n",
            "Rule_11_good 0.0\n",
            "Rule_12_good 0.0\n",
            "Rule_13_meduim 0.0\n",
            "Rule_14_good 0.2\n",
            "Rule_15_Best 0.0\n",
            "Rule_16_meduim 0.0\n",
            "Rule_17_good 0.2\n",
            "Rule_18_best 0.0\n"
          ],
          "name": "stdout"
        }
      ]
    },
    {
      "cell_type": "code",
      "metadata": {
        "colab": {
          "base_uri": "https://localhost:8080/"
        },
        "id": "kkxiXjLJz2kc",
        "outputId": "a9e9760f-d9c7-4309-cdff-6cfabcbb8992"
      },
      "source": [
        "# cotton nongreasy\n",
        "Rule19_good=np.fmin(clothtype_cotton ,DegreeOfDirtiness_NonGreasy) \n",
        "Rule19_good  =np.fmin(Rule19_good  ,WashingTime_Short)\n",
        "print('Rule_19_good' ,Rule19_good)\n",
        "\n",
        "Rule20_good=np.fmin(clothtype_cotton ,DegreeOfDirtiness_NonGreasy) \n",
        "Rule20_good  =np.fmin(Rule20_good  ,WashingTime_Medium)\n",
        "print('Rule_20_good' ,Rule20_good)\n",
        "\n",
        "Rule21_best=np.fmin(clothtype_cotton ,DegreeOfDirtiness_NonGreasy) \n",
        "Rule21_best  =np.fmin(Rule21_best ,WashingTime_Long)\n",
        "print('Rule_21_best' ,Rule21_best)\n",
        "\n",
        "# cotton meduim\n",
        "Rule22_good=np.fmin(clothtype_cotton ,DegreeOfDirtiness_Medium) \n",
        "Rule22_good  =np.fmin(Rule22_good ,WashingTime_Short)\n",
        "print('Rule_22_good' ,Rule22_good)\n",
        "\n",
        "Rule23_best=np.fmin(clothtype_cotton ,DegreeOfDirtiness_Medium) \n",
        "Rule23_best  =np.fmin(Rule23_best ,WashingTime_Medium)\n",
        "print('Rule_23_best' ,Rule23_best)\n",
        "\n",
        "Rule24_best=np.fmin(clothtype_cotton ,DegreeOfDirtiness_Medium) \n",
        "Rule24_best  =np.fmin(Rule24_best ,WashingTime_Long)\n",
        "print('Rule_24_best' ,Rule24_best)\n",
        "\n",
        "\n",
        "# cotton greasy\n",
        "Rule25_meduim=np.fmin(clothtype_cotton ,DegreeOfDirtiness_Greasy) \n",
        "Rule25_meduim  =np.fmin(Rule25_meduim ,WashingTime_Short)\n",
        "print('Rule_25_meduim' ,Rule25_meduim)\n",
        "\n",
        "Rule26_good=np.fmin(clothtype_cotton ,DegreeOfDirtiness_Greasy) \n",
        "Rule26_good  =np.fmin(Rule26_good ,WashingTime_Medium)\n",
        "print('Rule_26_good' ,Rule26_good)\n",
        "\n",
        "Rule27_best=np.fmin(clothtype_cotton ,DegreeOfDirtiness_Greasy) \n",
        "Rule27_best  =np.fmin(Rule27_best ,WashingTime_Long)\n",
        "print('Rule_27_best' ,Rule27_best)"
      ],
      "execution_count": null,
      "outputs": [
        {
          "output_type": "stream",
          "text": [
            "Rule_19_good 0.0\n",
            "Rule_20_good 0.0\n",
            "Rule_21_best 0.0\n",
            "Rule_22_good 0.0\n",
            "Rule_23_best 0.2\n",
            "Rule_24_best 0.0\n",
            "Rule_25_meduim 0.0\n",
            "Rule_26_good 0.2\n",
            "Rule_27_best 0.0\n"
          ],
          "name": "stdout"
        }
      ]
    },
    {
      "cell_type": "code",
      "metadata": {
        "colab": {
          "base_uri": "https://localhost:8080/"
        },
        "id": "yMPuH76MGFMk",
        "outputId": "b1f454e2-392e-43b2-eddf-13a17ea21a68"
      },
      "source": [
        "# good best meduim \n",
        "aggregatedbest = np.fmax( Rule2_Best,     Rule3_Best)\n",
        "aggregatedbest  = np.fmax(aggregatedbest  ,Rule15_best)\n",
        "aggregatedbest  = np.fmax(aggregatedbest  ,Rule9_Best)\n",
        "aggregatedbest  = np.fmax(aggregatedbest  ,Rule18_best)\n",
        "aggregatedbest = np.fmax(aggregatedbest  ,Rule21_best)\n",
        "aggregatedbest  = np.fmax(aggregatedbest  ,Rule23_best)\n",
        "aggregatedbest = np.fmax(aggregatedbest ,Rule24_best)\n",
        "aggregatedbest = np.fmax(aggregatedbest  ,Rule27_best)\n",
        "aggregatedbest = np.fmin(aggregatedbest  ,washinquality_best)\n",
        "\n",
        "\n",
        "\n",
        "aggregatedmeduim = np.fmax(Rule5_meduim ,Rule4_meduim)\n",
        "aggregatedmeduim = np.fmax(aggregatedmeduim,Rule7_meduim)\n",
        "aggregatedmeduim = np.fmax(aggregatedmeduim,Rule10_meduim)\n",
        "aggregatedmeduim = np.fmax(aggregatedmeduim ,Rule13_meduim)\n",
        "aggregatedmeduim = np.fmax(aggregatedmeduim ,Rule16_meduim)\n",
        "aggregatedmeduim = np.fmax(aggregatedmeduim ,Rule25_meduim)\n",
        "aggregatedmeduim = np.fmin(aggregatedmeduim ,washinquality_meduim)\n",
        "\n",
        "\n",
        "aggregatedgood = np.fmax(Rule1_good ,Rule6_good)\n",
        "aggregatedgood = np.fmax(aggregatedgood ,Rule8_good)\n",
        "aggregatedgood = np.fmax(aggregatedgood ,Rule11_good)\n",
        "aggregatedgood = np.fmax(aggregatedgood ,Rule12_good)\n",
        "aggregatedgood = np.fmax(aggregatedgood ,Rule14_good)\n",
        "aggregatedgood= np.fmax(aggregatedgood,Rule17_good)\n",
        "aggregatedgood = np.fmax(aggregatedgood ,Rule19_good)\n",
        "aggregatedgood = np.fmax(aggregatedgood ,Rule20_good)\n",
        "aggregatedgood = np.fmax(aggregatedgood ,Rule22_good)\n",
        "aggregatedgood= np.fmax(aggregatedgood ,Rule26_good)\n",
        "aggregatedgood= np.fmin(aggregatedgood ,washinquality_good)\n",
        "\n",
        "\n",
        "aggregated=np.fmax(aggregatedgood,np.fmax(aggregatedbest,aggregatedmeduim))\n",
        "print(\"\\nAggregated Value: \" + str(aggregated))"
      ],
      "execution_count": null,
      "outputs": [
        {
          "output_type": "stream",
          "text": [
            "\n",
            "Aggregated Value: [0.00000000e+00 0.00000000e+00 0.00000000e+00 0.00000000e+00\n",
            " 0.00000000e+00 0.00000000e+00 0.00000000e+00 0.00000000e+00\n",
            " 0.00000000e+00 0.00000000e+00 0.00000000e+00 0.00000000e+00\n",
            " 0.00000000e+00 0.00000000e+00 3.70074342e-16 1.66666667e-01\n",
            " 2.00000000e-01 2.00000000e-01 2.00000000e-01 2.00000000e-01\n",
            " 2.00000000e-01 2.00000000e-01 2.00000000e-01 2.00000000e-01\n",
            " 2.00000000e-01 0.00000000e+00 2.00000000e-01 2.00000000e-01\n",
            " 2.00000000e-01 2.00000000e-01 0.00000000e+00]\n"
          ],
          "name": "stdout"
        }
      ]
    },
    {
      "cell_type": "code",
      "metadata": {
        "colab": {
          "base_uri": "https://localhost:8080/"
        },
        "id": "ausqUDQfKX5p",
        "outputId": "aa1e1018-c7f1-46f0-cbff-7abf16f565cd"
      },
      "source": [
        "print(aggregated,x_washinquality)"
      ],
      "execution_count": null,
      "outputs": [
        {
          "output_type": "stream",
          "text": [
            "0.2 [0.  0.1 0.2 0.3 0.4 0.5 0.6 0.7 0.8 0.9 1.  1.1 1.2 1.3 1.4 1.5 1.6 1.7\n",
            " 1.8 1.9 2.  2.1 2.2 2.3 2.4 2.5 2.6 2.7 2.8 2.9 3. ]\n"
          ],
          "name": "stdout"
        }
      ]
    },
    {
      "cell_type": "code",
      "metadata": {
        "colab": {
          "base_uri": "https://localhost:8080/"
        },
        "id": "ictaviuHHQFQ",
        "outputId": "f90f33ee-c4f4-4c21-f2e4-e214cc9dcfff"
      },
      "source": [
        "washingquality_stats = fuzz.defuzz(x_washinquality, aggregated, 'centroid')\n",
        "print(washingquality_stats)"
      ],
      "execution_count": null,
      "outputs": [
        {
          "output_type": "stream",
          "text": [
            "2.1867469879518073\n"
          ],
          "name": "stdout"
        }
      ]
    },
    {
      "cell_type": "code",
      "metadata": {
        "colab": {
          "base_uri": "https://localhost:8080/"
        },
        "id": "eboIc0AqW9bC",
        "outputId": "02e3a7b6-68f6-4038-e176-ece71dfd68b3"
      },
      "source": [
        "if 0 < washingquality_stats < 1.5:\n",
        "    print(\"power is medium\")\n",
        "elif 1.5 <= washingquality_stats <= 2.5:\n",
        "    print(\"power is good\")\n",
        "elif 2.5 < washingquality_stats <= 3:\n",
        "    print(\"power is best.\")"
      ],
      "execution_count": null,
      "outputs": [
        {
          "output_type": "stream",
          "text": [
            "power is good\n"
          ],
          "name": "stdout"
        }
      ]
    }
  ]
}